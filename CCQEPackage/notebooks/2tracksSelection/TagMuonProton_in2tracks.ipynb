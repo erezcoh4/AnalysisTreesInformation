{
 "cells": [
  {
   "cell_type": "markdown",
   "metadata": {},
   "source": [
    "# how to tag a proton and a muon in 2-tracks"
   ]
  },
  {
   "cell_type": "code",
   "execution_count": 1,
   "metadata": {
    "collapsed": true
   },
   "outputs": [],
   "source": [
    "import sys; sys.path.insert(0, '../'); from ccqe_notebook_tools import *\n",
    "%matplotlib inline"
   ]
  },
  {
   "cell_type": "code",
   "execution_count": 17,
   "metadata": {
    "collapsed": false
   },
   "outputs": [
    {
     "name": "stdout",
     "output_type": "stream",
     "text": [
      "82131 2-tracks clusters from MC-BNB events\n",
      "7306 are true (GENIE) cc1p\n",
      "18889 are 2-tracks clusters with 1 muon and 1 proton\n"
     ]
    }
   ],
   "source": [
    "# MCevents = pd.read_csv('/Users/erezcohen/Desktop/uBoone/analysis/ccqe_candidates/ccqe_candidates_CC1pTopology_MCC7_MC_BNB.csv')\n",
    "print len(MCevents),'2-tracks clusters from MC-BNB events'\n",
    "\n",
    "MCeventsTrueCC1p = MCevents[MCevents.GENIECC1p==1]\n",
    "MCeventsNonTrueCC1p = MCevents[MCevents.GENIECC1p!=1]\n",
    "print len(MCeventsTrueCC1p), 'are true (GENIE) cc1p'\n",
    "\n",
    "\n",
    "MCevents1mu1p = MCevents[((MCevents.pdg_large_pida==13) & (MCevents.pdg_small_pida==2212)) \n",
    "                         | ((MCevents.pdg_large_pida==2212) & (MCevents.pdg_small_pida==13))]\n",
    "print len(MCevents1mu1p), 'are 2-tracks clusters with 1 muon and 1 proton'\n"
   ]
  },
  {
   "cell_type": "markdown",
   "metadata": {},
   "source": [
    "# muon/proton taggin for true 1µ 1p clusters"
   ]
  },
  {
   "cell_type": "code",
   "execution_count": 19,
   "metadata": {
    "collapsed": false
   },
   "outputs": [
    {
     "name": "stdout",
     "output_type": "stream",
     "text": [
      "classification efficiency by length: 87.4 +/- 0.9 %\n",
      "classification efficiency by PIDA: 86.6 +/- 0.9 %\n"
     ]
    }
   ],
   "source": [
    "efficiency = 100*float(len(MCevents1mu1p[MCevents1mu1p['pdg_long']==13]))/len(MCevents1mu1p)\n",
    "eff_err = efficiency*np.sqrt(1./len(MCevents1mu1p[MCevents1mu1p['pdg_long']==13])+1./len(MCevents1mu1p))\n",
    "print 'classification efficiency by length: %.1f'%efficiency+' +/- %.1f'%eff_err+' %'\n",
    "\n",
    "efficiency = 100*float(len(MCevents1mu1p[MCevents1mu1p['pdg_small_pida']==13]))/len(MCevents1mu1p)\n",
    "eff_err = efficiency*np.sqrt(1./len(MCevents1mu1p[MCevents1mu1p['pdg_small_pida']==13])+1./len(MCevents1mu1p))\n",
    "print 'classification efficiency by PIDA: %.1f'%efficiency+' +/- %.1f'%eff_err+' %'"
   ]
  },
  {
   "cell_type": "markdown",
   "metadata": {},
   "source": [
    "and what if we additionally require that the particle with the large PID-A has PID-A>PID-A(min) ?"
   ]
  },
  {
   "cell_type": "code",
   "execution_count": 20,
   "metadata": {
    "collapsed": false
   },
   "outputs": [
    {
     "name": "stdout",
     "output_type": "stream",
     "text": [
      "17743 are 2-tracks clusters with 1 muon and 1 proton with the large PID-A has PID-A> 10\n",
      "62840 are 2-tracks clusters with with the large PID-A has PID-A> 10\n"
     ]
    }
   ],
   "source": [
    "min_PIDA_large_pida=10\n",
    "MCevents1mu1p_reduced = MCevents1mu1p[MCevents1mu1p.PIDA_large_pida>min_PIDA_large_pida]\n",
    "print len(MCevents1mu1p_reduced), 'are 2-tracks clusters with 1 muon and 1 proton with the large PID-A has PID-A>',min_PIDA_large_pida\n",
    "MCevents_reduced = MCevents[MCevents.PIDA_large_pida>min_PIDA_large_pida]\n",
    "print len(MCevents_reduced), 'are 2-tracks clusters with with the large PID-A has PID-A>',min_PIDA_large_pida"
   ]
  },
  {
   "cell_type": "code",
   "execution_count": 21,
   "metadata": {
    "collapsed": false
   },
   "outputs": [
    {
     "name": "stdout",
     "output_type": "stream",
     "text": [
      "classification efficiency by length: 87.4 +/- 1.0 %\n",
      "classification efficiency by PIDA: 89.4 +/- 1.0 %\n"
     ]
    }
   ],
   "source": [
    "efficiency = 100*float(len(MCevents1mu1p_reduced[MCevents1mu1p_reduced['pdg_long']==13]))/len(MCevents1mu1p_reduced)\n",
    "eff_err = efficiency*np.sqrt(1./len(MCevents1mu1p_reduced[MCevents1mu1p_reduced['pdg_long']==13])+1./len(MCevents1mu1p_reduced))\n",
    "print 'classification efficiency by length: %.1f'%efficiency+' +/- %.1f'%eff_err+' %'\n",
    "\n",
    "efficiency = 100*float(len(MCevents1mu1p_reduced[MCevents1mu1p_reduced['pdg_small_pida']==13]))/len(MCevents1mu1p_reduced)\n",
    "eff_err = efficiency*np.sqrt(1./len(MCevents1mu1p_reduced[MCevents1mu1p_reduced['pdg_small_pida']==13])+1./len(MCevents1mu1p_reduced))\n",
    "print 'classification efficiency by PIDA: %.1f'%efficiency+' +/- %.1f'%eff_err+' %'"
   ]
  },
  {
   "cell_type": "markdown",
   "metadata": {},
   "source": [
    "# muon/proton taggin for true CC1p"
   ]
  },
  {
   "cell_type": "code",
   "execution_count": 28,
   "metadata": {
    "collapsed": false
   },
   "outputs": [
    {
     "name": "stdout",
     "output_type": "stream",
     "text": [
      "classification efficiency by length: 88.3 +/- 1.5 %\n",
      "classification efficiency by PIDA: 90.5 +/- 1.5 %\n"
     ]
    }
   ],
   "source": [
    "efficiency = 100*float(len(MCeventsTrueCC1p[MCeventsTrueCC1p['pdg_long']==13]))/len(MCeventsTrueCC1p)\n",
    "eff_err = efficiency*np.sqrt(1./len(MCeventsTrueCC1p[MCeventsTrueCC1p['pdg_long']==13])+1./len(MCeventsTrueCC1p))\n",
    "print 'classification efficiency by length: %.1f'%efficiency+' +/- %.1f'%eff_err+' %'\n",
    "\n",
    "efficiency = 100*float(len(MCeventsTrueCC1p[MCeventsTrueCC1p['pdg_small_pida']==13]))/len(MCeventsTrueCC1p)\n",
    "eff_err = efficiency*np.sqrt(1./len(MCeventsTrueCC1p[MCeventsTrueCC1p['pdg_small_pida']==13])+1./len(MCeventsTrueCC1p))\n",
    "print 'classification efficiency by PIDA: %.1f'%efficiency+' +/- %.1f'%eff_err+' %'"
   ]
  },
  {
   "cell_type": "code",
   "execution_count": null,
   "metadata": {
    "collapsed": true
   },
   "outputs": [],
   "source": []
  }
 ],
 "metadata": {
  "kernelspec": {
   "display_name": "Python 2",
   "language": "python",
   "name": "python2"
  },
  "language_info": {
   "codemirror_mode": {
    "name": "ipython",
    "version": 2
   },
   "file_extension": ".py",
   "mimetype": "text/x-python",
   "name": "python",
   "nbconvert_exporter": "python",
   "pygments_lexer": "ipython2",
   "version": "2.7.11"
  }
 },
 "nbformat": 4,
 "nbformat_minor": 0
}
