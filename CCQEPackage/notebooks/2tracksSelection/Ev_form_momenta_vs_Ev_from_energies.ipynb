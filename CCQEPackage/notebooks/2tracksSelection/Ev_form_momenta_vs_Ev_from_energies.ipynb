{
 "cells": [
  {
   "cell_type": "code",
   "execution_count": 1,
   "metadata": {
    "collapsed": true
   },
   "outputs": [],
   "source": [
    "import sys; sys.path.insert(0, '../../../AnaTreesPackage/notebooks'); sys.path.insert(0, '../');\n",
    "from ccqe_notebook_tools import *\n",
    "from tracking_tools import *\n",
    "from notebooks_tools import * \n",
    "%matplotlib inline"
   ]
  },
  {
   "cell_type": "code",
   "execution_count": 26,
   "metadata": {
    "collapsed": false
   },
   "outputs": [
    {
     "name": "stdout",
     "output_type": "stream",
     "text": [
      "7064 total CC1p 100.0 %\n",
      "2886 contained 40.8550396376 %\n",
      "638 tracks reconstructed 9.03171007928 %\n",
      "503 tracks reconstructed and contained 7.12061155153 %\n",
      "408 tracks reconstructed and contained with a separation distance below 11 cm 5.77576443941 %\n"
     ]
    }
   ],
   "source": [
    "GENIECC1p = pd.read_csv('/Users/erezcohen/Desktop/uBoone/analysis/ccqe_candidates/ccqe_candidates_GENIECC1p_MCC8_MC_BNB_extBNB.csv')\n",
    "print len(GENIECC1p),'total CC1p',(100*float(len(GENIECC1p))/len(GENIECC1p)),'%'\n",
    "GENIECC1pIsVertexContained = GENIECC1p[GENIECC1p.IsVertexContained==True]\n",
    "print len(GENIECC1pIsVertexContained),'contained',(100*float(len(GENIECC1pIsVertexContained))/len(GENIECC1p)),'%'\n",
    "GENIECC1pIsVertexReconstructed = GENIECC1pIsVertexContained[GENIECC1pIsVertexContained.IsVertexReconstructed==True]\n",
    "print len(GENIECC1pIsVertexReconstructed),'tracks reconstructed',(100*float(len(GENIECC1pIsVertexReconstructed))/len(GENIECC1p)),'%'\n",
    "GENIECC1p_in_FV = sample_in_FV( GENIECC1pIsVertexReconstructed )\n",
    "print len(GENIECC1p_in_FV),'tracks reconstructed and contained',(100*float(len(GENIECC1p_in_FV))/len(GENIECC1p)),'%'\n",
    "GENIECC1p_in_FV_close_proximity = GENIECC1p_in_FV[GENIECC1p_in_FV['distance']<11]\n",
    "print len(GENIECC1p_in_FV_close_proximity),'tracks reconstructed and contained with a separation distance below 11 cm',(100*float(len(GENIECC1p_in_FV_close_proximity))/len(GENIECC1p)),'%'"
   ]
  },
  {
   "cell_type": "code",
   "execution_count": 34,
   "metadata": {
    "collapsed": false
   },
   "outputs": [
    {
     "data": {
      "image/png": "[encoded data removed]",
      "text/plain": [
       "<matplotlib.figure.Figure at 0x122d1cf50>"
      ]
     },
     "metadata": {},
     "output_type": "display_data"
    }
   ],
   "source": [
    "h,bins,_=plt.hist(GENIECC1p_in_FV_close_proximity.truth_Ev - GENIECC1p_in_FV_close_proximity.reco_CC1p_Ev,bins=np.linspace(-0.5,1.5,30),histtype='step',linewidth=3);\n",
    "plt.hist(GENIECC1p_in_FV_close_proximity.truth_Ev - GENIECC1p_in_FV_close_proximity.reco_CC1p_Ev_fromE,bins=bins,histtype='step',linewidth=3);"
   ]
  },
  {
   "cell_type": "code",
   "execution_count": 33,
   "metadata": {
    "collapsed": false
   },
   "outputs": [
    {
     "data": {
      "image/png": "[encoded data removed]",
      "text/plain": [
       "<matplotlib.figure.Figure at 0x1233e09d0>"
      ]
     },
     "metadata": {},
     "output_type": "display_data"
    }
   ],
   "source": [
    "h,bins,_=plt.hist(GENIECC1p_in_FV_close_proximity.truth_theta_pq - GENIECC1p_in_FV_close_proximity.reco_CC1p_theta_pq,bins=np.linspace(-60,60,30),histtype='step',linewidth=3);\n",
    "plt.hist(GENIECC1p_in_FV_close_proximity.truth_theta_pq - GENIECC1p_in_FV_close_proximity.reco_CC1p_theta_pq_fromE,bins=bins,histtype='step',linewidth=3);"
   ]
  },
  {
   "cell_type": "code",
   "execution_count": null,
   "metadata": {
    "collapsed": true
   },
   "outputs": [],
   "source": []
  }
 ],
 "metadata": {
  "kernelspec": {
   "display_name": "Python 2",
   "language": "python",
   "name": "python2"
  },
  "language_info": {
   "codemirror_mode": {
    "name": "ipython",
    "version": 2
   },
   "file_extension": ".py",
   "mimetype": "text/x-python",
   "name": "python",
   "nbconvert_exporter": "python",
   "pygments_lexer": "ipython2",
   "version": "2.7.11"
  }
 },
 "nbformat": 4,
 "nbformat_minor": 0
}
