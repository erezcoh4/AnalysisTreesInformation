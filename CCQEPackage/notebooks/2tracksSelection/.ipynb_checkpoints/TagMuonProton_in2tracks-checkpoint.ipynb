{
 "cells": [
  {
   "cell_type": "markdown",
   "metadata": {},
   "source": [
    "# how to tag a proton and a muon in 2-tracks"
   ]
  },
  {
   "cell_type": "code",
   "execution_count": 2,
   "metadata": {
    "collapsed": true
   },
   "outputs": [],
   "source": [
    "import sys; sys.path.insert(0, '../'); from ccqe_notebook_tools import *\n",
    "%matplotlib inline"
   ]
  },
  {
   "cell_type": "code",
   "execution_count": 4,
   "metadata": {
    "collapsed": false
   },
   "outputs": [
    {
     "name": "stdout",
     "output_type": "stream",
     "text": [
      "56423 2-tracks clusters from MC-BNB events\n",
      "5037 are true (GENIE) cc1p\n"
     ]
    }
   ],
   "source": [
    "MCevents = pd.read_csv('/Users/erezcohen/Desktop/uBoone/analysis/ccqe_candidates/ccqe_candidates_CC1pTopology_MCC7_MC_BNB.csv')\n",
    "\n",
    "print len(MCevents),'2-tracks clusters from MC-BNB events'\n",
    "MCeventsTrueCC1p = MCevents[MCevents.GENIECC1p==1]\n",
    "MCeventsNonTrueCC1p = MCevents[MCevents.GENIECC1p!=1]\n",
    "print len(MCeventsTrueCC1p), 'are true (GENIE) cc1p'"
   ]
  },
  {
   "cell_type": "code",
   "execution_count": null,
   "metadata": {
    "collapsed": true
   },
   "outputs": [],
   "source": []
  }
 ],
 "metadata": {
  "kernelspec": {
   "display_name": "Python 2",
   "language": "python",
   "name": "python2"
  },
  "language_info": {
   "codemirror_mode": {
    "name": "ipython",
    "version": 2
   },
   "file_extension": ".py",
   "mimetype": "text/x-python",
   "name": "python",
   "nbconvert_exporter": "python",
   "pygments_lexer": "ipython2",
   "version": "2.7.11"
  }
 },
 "nbformat": 4,
 "nbformat_minor": 0
}
